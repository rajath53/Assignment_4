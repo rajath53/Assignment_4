{
 "cells": [
  {
   "cell_type": "code",
   "execution_count": 1,
   "metadata": {},
   "outputs": [],
   "source": [
    "import pandas as pd"
   ]
  },
  {
   "cell_type": "code",
   "execution_count": 2,
   "metadata": {},
   "outputs": [],
   "source": [
    "df = pd.DataFrame({'Roll Number': ['20CSE29', '20CSE49', '20CSE36', '20CSE44'], \n",
    "                   'Name': ['Amelia', 'Sam', 'Dean', 'Jessica'], \n",
    "                   'Marks In Percentage': [97, 90, 70, 82], \n",
    "                   'Grade': ['A', 'A', 'C', 'B'], \n",
    "                   'Subject': ['Physics', 'Physics', 'Physics', 'Physics']}) "
   ]
  },
  {
   "cell_type": "code",
   "execution_count": 3,
   "metadata": {},
   "outputs": [
    {
     "data": {
      "text/html": [
       "<div>\n",
       "<style scoped>\n",
       "    .dataframe tbody tr th:only-of-type {\n",
       "        vertical-align: middle;\n",
       "    }\n",
       "\n",
       "    .dataframe tbody tr th {\n",
       "        vertical-align: top;\n",
       "    }\n",
       "\n",
       "    .dataframe thead th {\n",
       "        text-align: right;\n",
       "    }\n",
       "</style>\n",
       "<table border=\"1\" class=\"dataframe\">\n",
       "  <thead>\n",
       "    <tr style=\"text-align: right;\">\n",
       "      <th></th>\n",
       "      <th>Roll Number</th>\n",
       "      <th>Name</th>\n",
       "      <th>Marks In Percentage</th>\n",
       "      <th>Grade</th>\n",
       "      <th>Subject</th>\n",
       "      <th>index</th>\n",
       "    </tr>\n",
       "  </thead>\n",
       "  <tbody>\n",
       "    <tr>\n",
       "      <th>0</th>\n",
       "      <td>20CSE29</td>\n",
       "      <td>Amelia</td>\n",
       "      <td>97</td>\n",
       "      <td>A</td>\n",
       "      <td>Physics</td>\n",
       "      <td>0</td>\n",
       "    </tr>\n",
       "    <tr>\n",
       "      <th>1</th>\n",
       "      <td>20CSE49</td>\n",
       "      <td>Sam</td>\n",
       "      <td>90</td>\n",
       "      <td>A</td>\n",
       "      <td>Physics</td>\n",
       "      <td>1</td>\n",
       "    </tr>\n",
       "    <tr>\n",
       "      <th>2</th>\n",
       "      <td>20CSE36</td>\n",
       "      <td>Dean</td>\n",
       "      <td>70</td>\n",
       "      <td>C</td>\n",
       "      <td>Physics</td>\n",
       "      <td>2</td>\n",
       "    </tr>\n",
       "    <tr>\n",
       "      <th>3</th>\n",
       "      <td>20CSE44</td>\n",
       "      <td>Jessica</td>\n",
       "      <td>82</td>\n",
       "      <td>B</td>\n",
       "      <td>Physics</td>\n",
       "      <td>3</td>\n",
       "    </tr>\n",
       "  </tbody>\n",
       "</table>\n",
       "</div>"
      ],
      "text/plain": [
       "  Roll Number     Name  Marks In Percentage Grade  Subject  index\n",
       "0     20CSE29   Amelia                   97     A  Physics      0\n",
       "1     20CSE49      Sam                   90     A  Physics      1\n",
       "2     20CSE36     Dean                   70     C  Physics      2\n",
       "3     20CSE44  Jessica                   82     B  Physics      3"
      ]
     },
     "execution_count": 3,
     "metadata": {},
     "output_type": "execute_result"
    }
   ],
   "source": [
    "df['index'] = df.index \n",
    "df"
   ]
  }
 ],
 "metadata": {
  "kernelspec": {
   "display_name": "Python 3",
   "language": "python",
   "name": "python3"
  },
  "language_info": {
   "codemirror_mode": {
    "name": "ipython",
    "version": 3
   },
   "file_extension": ".py",
   "mimetype": "text/x-python",
   "name": "python",
   "nbconvert_exporter": "python",
   "pygments_lexer": "ipython3",
   "version": "3.8.3"
  }
 },
 "nbformat": 4,
 "nbformat_minor": 4
}
